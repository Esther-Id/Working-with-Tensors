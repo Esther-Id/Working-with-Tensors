{
 "cells": [
  {
   "cell_type": "markdown",
   "id": "c49f3106",
   "metadata": {},
   "source": [
    "# Working with Tensors"
   ]
  },
  {
   "cell_type": "markdown",
   "id": "188b9165",
   "metadata": {},
   "source": [
    "### Install Required libraries"
   ]
  },
  {
   "cell_type": "code",
   "execution_count": 33,
   "id": "9bea329e",
   "metadata": {},
   "outputs": [],
   "source": [
    "#!pip install torch"
   ]
  },
  {
   "cell_type": "code",
   "execution_count": 34,
   "id": "5365e08e",
   "metadata": {},
   "outputs": [],
   "source": [
    "import torch\n",
    "import numpy as np"
   ]
  },
  {
   "cell_type": "markdown",
   "id": "dc816786",
   "metadata": {},
   "source": [
    "### playing with Tensors in PyTorch."
   ]
  },
  {
   "cell_type": "code",
   "execution_count": 35,
   "id": "a3d98565",
   "metadata": {},
   "outputs": [
    {
     "data": {
      "text/plain": [
       "tensor([[1, 2],\n",
       "        [3, 4]])"
      ]
     },
     "execution_count": 35,
     "metadata": {},
     "output_type": "execute_result"
    }
   ],
   "source": [
    "# Create Tensor From Data(List)\n",
    "data = [[1,2], [3,4]]\n",
    "tensors = torch.tensor(data)\n",
    "\n",
    "tensors\n"
   ]
  },
  {
   "cell_type": "markdown",
   "id": "4d49e4c1",
   "metadata": {},
   "source": [
    "##### Create from NumPy"
   ]
  },
  {
   "cell_type": "code",
   "execution_count": 36,
   "id": "ebd602f2",
   "metadata": {},
   "outputs": [
    {
     "data": {
      "text/plain": [
       "tensor([0, 1, 2, 3, 4, 5, 6, 7, 8, 9], dtype=torch.int32)"
      ]
     },
     "execution_count": 36,
     "metadata": {},
     "output_type": "execute_result"
    }
   ],
   "source": [
    "np_array = np.arange(10)\n",
    "tensor_np = torch.from_numpy(np_array)\n",
    "\n",
    "tensor_np"
   ]
  },
  {
   "cell_type": "markdown",
   "id": "78e66e51",
   "metadata": {},
   "source": [
    "#### Shape, ndim and dtype"
   ]
  },
  {
   "cell_type": "code",
   "execution_count": 37,
   "id": "144820e9",
   "metadata": {},
   "outputs": [
    {
     "data": {
      "text/plain": [
       "(torch.Size([10]), torch.Size([2, 2]))"
      ]
     },
     "execution_count": 37,
     "metadata": {},
     "output_type": "execute_result"
    }
   ],
   "source": [
    "tensor_np.shape, tensors.shape"
   ]
  },
  {
   "cell_type": "code",
   "execution_count": 38,
   "id": "befce420",
   "metadata": {},
   "outputs": [
    {
     "data": {
      "text/plain": [
       "1"
      ]
     },
     "execution_count": 38,
     "metadata": {},
     "output_type": "execute_result"
    }
   ],
   "source": [
    "tensor_np.ndim"
   ]
  },
  {
   "cell_type": "code",
   "execution_count": 39,
   "id": "a9ba7cb1",
   "metadata": {},
   "outputs": [
    {
     "data": {
      "text/plain": [
       "(torch.int32, torch.int64)"
      ]
     },
     "execution_count": 39,
     "metadata": {},
     "output_type": "execute_result"
    }
   ],
   "source": [
    "tensor_np.dtype, tensors.dtype"
   ]
  },
  {
   "cell_type": "markdown",
   "id": "d07c9c27",
   "metadata": {},
   "source": [
    "### Tensor_Operations"
   ]
  },
  {
   "cell_type": "code",
   "execution_count": 40,
   "id": "4d139b4b",
   "metadata": {},
   "outputs": [
    {
     "data": {
      "text/plain": [
       "tensor([5, 7, 9])"
      ]
     },
     "execution_count": 40,
     "metadata": {},
     "output_type": "execute_result"
    }
   ],
   "source": [
    "ten1 = torch.tensor([1,2,3])\n",
    "ten2 = torch.tensor([4,5,6])\n",
    "\n",
    "ten1+ten2"
   ]
  },
  {
   "cell_type": "code",
   "execution_count": 41,
   "id": "71046178",
   "metadata": {},
   "outputs": [
    {
     "data": {
      "text/plain": [
       "torch.Size([3])"
      ]
     },
     "execution_count": 41,
     "metadata": {},
     "output_type": "execute_result"
    }
   ],
   "source": [
    "ten1.shape"
   ]
  },
  {
   "cell_type": "code",
   "execution_count": 42,
   "id": "b956ad47",
   "metadata": {},
   "outputs": [
    {
     "data": {
      "text/plain": [
       "tensor([ 4, 10, 18])"
      ]
     },
     "execution_count": 42,
     "metadata": {},
     "output_type": "execute_result"
    }
   ],
   "source": [
    "ten2*ten1"
   ]
  },
  {
   "cell_type": "code",
   "execution_count": 43,
   "id": "df64f152",
   "metadata": {},
   "outputs": [
    {
     "data": {
      "text/plain": [
       "tensor([5, 7, 9])"
      ]
     },
     "execution_count": 43,
     "metadata": {},
     "output_type": "execute_result"
    }
   ],
   "source": [
    "torch.add(ten1,ten2)"
   ]
  },
  {
   "cell_type": "code",
   "execution_count": 44,
   "id": "5d2853d1",
   "metadata": {},
   "outputs": [
    {
     "data": {
      "text/plain": [
       "(tensor([3, 3, 3]), tensor([3, 3, 3]))"
      ]
     },
     "execution_count": 44,
     "metadata": {},
     "output_type": "execute_result"
    }
   ],
   "source": [
    "torch.sub(ten2,ten1), torch.subtract(ten2,ten1)"
   ]
  },
  {
   "cell_type": "code",
   "execution_count": 45,
   "id": "d25f616e",
   "metadata": {},
   "outputs": [
    {
     "data": {
      "text/plain": [
       "tensor([10, 20, 30])"
      ]
     },
     "execution_count": 45,
     "metadata": {},
     "output_type": "execute_result"
    }
   ],
   "source": [
    "ten1*10"
   ]
  },
  {
   "cell_type": "markdown",
   "id": "3075ae8d",
   "metadata": {},
   "source": [
    "### Tensor Operation in Deep Learning- Matrix Multiplication"
   ]
  },
  {
   "cell_type": "code",
   "execution_count": 46,
   "id": "ac2a5d84",
   "metadata": {},
   "outputs": [
    {
     "data": {
      "text/plain": [
       "tensor(32)"
      ]
     },
     "execution_count": 46,
     "metadata": {},
     "output_type": "execute_result"
    }
   ],
   "source": [
    "# Rules of Matrix Multiplication\n",
    "\n",
    "# (3,2) * (3,2) = Error\n",
    "# (4,3) * (3,2) = (4,2)\n",
    "# (2,2) * (2,5) = (2,5)\n",
    "\n",
    "torch.matmul(ten2,ten1)"
   ]
  },
  {
   "cell_type": "code",
   "execution_count": 47,
   "id": "850cacee",
   "metadata": {},
   "outputs": [
    {
     "data": {
      "text/plain": [
       "array([ 1,  2,  3,  4,  5,  6,  7,  8,  9, 10, 11, 12])"
      ]
     },
     "execution_count": 47,
     "metadata": {},
     "output_type": "execute_result"
    }
   ],
   "source": [
    "matrix1 = np.arange(1,13)\n",
    "matrix1"
   ]
  },
  {
   "cell_type": "code",
   "execution_count": 48,
   "id": "c79e98b0",
   "metadata": {},
   "outputs": [
    {
     "data": {
      "text/plain": [
       "array([[ 1,  2,  3],\n",
       "       [ 4,  5,  6],\n",
       "       [ 7,  8,  9],\n",
       "       [10, 11, 12]])"
      ]
     },
     "execution_count": 48,
     "metadata": {},
     "output_type": "execute_result"
    }
   ],
   "source": [
    "matrix4_3 = matrix1.reshape(4,3)\n",
    "matrix4_3"
   ]
  },
  {
   "cell_type": "code",
   "execution_count": 49,
   "id": "56ea394e",
   "metadata": {},
   "outputs": [
    {
     "data": {
      "text/plain": [
       "tensor([[ 1,  2,  3],\n",
       "        [ 4,  5,  6],\n",
       "        [ 7,  8,  9],\n",
       "        [10, 11, 12]], dtype=torch.int32)"
      ]
     },
     "execution_count": 49,
     "metadata": {},
     "output_type": "execute_result"
    }
   ],
   "source": [
    "matrix4_3 = torch.tensor(matrix4_3)\n",
    "matrix4_3"
   ]
  },
  {
   "cell_type": "code",
   "execution_count": 50,
   "id": "70fec9b9",
   "metadata": {},
   "outputs": [
    {
     "data": {
      "text/plain": [
       "tensor([[ 1,  2,  3,  4],\n",
       "        [ 5,  6,  7,  8],\n",
       "        [ 9, 10, 11, 12]], dtype=torch.int32)"
      ]
     },
     "execution_count": 50,
     "metadata": {},
     "output_type": "execute_result"
    }
   ],
   "source": [
    "target = matrix4_3.view(3, 4)\n",
    "target"
   ]
  },
  {
   "cell_type": "code",
   "execution_count": 51,
   "id": "f14d149b",
   "metadata": {},
   "outputs": [
    {
     "data": {
      "text/plain": [
       "torch.Size([4, 3])"
      ]
     },
     "execution_count": 51,
     "metadata": {},
     "output_type": "execute_result"
    }
   ],
   "source": [
    "matrix4_3.shape"
   ]
  },
  {
   "cell_type": "code",
   "execution_count": 52,
   "id": "de1dc3f6",
   "metadata": {},
   "outputs": [
    {
     "data": {
      "text/plain": [
       "torch.int32"
      ]
     },
     "execution_count": 52,
     "metadata": {},
     "output_type": "execute_result"
    }
   ],
   "source": [
    "matrix4_3.dtype"
   ]
  },
  {
   "cell_type": "code",
   "execution_count": 53,
   "id": "1c5050c3",
   "metadata": {},
   "outputs": [
    {
     "data": {
      "text/plain": [
       "2"
      ]
     },
     "execution_count": 53,
     "metadata": {},
     "output_type": "execute_result"
    }
   ],
   "source": [
    "matrix4_3.ndim"
   ]
  },
  {
   "cell_type": "code",
   "execution_count": 54,
   "id": "abeb660b",
   "metadata": {},
   "outputs": [
    {
     "data": {
      "text/plain": [
       "<function Tensor.size>"
      ]
     },
     "execution_count": 54,
     "metadata": {},
     "output_type": "execute_result"
    }
   ],
   "source": [
    "matrix4_3.size"
   ]
  },
  {
   "cell_type": "markdown",
   "id": "d6f59c57",
   "metadata": {},
   "source": [
    "#### Transposed"
   ]
  },
  {
   "cell_type": "code",
   "execution_count": 55,
   "id": "e2d97ca0",
   "metadata": {},
   "outputs": [
    {
     "data": {
      "text/plain": [
       "tensor([[ 1,  4,  7, 10],\n",
       "        [ 2,  5,  8, 11],\n",
       "        [ 3,  6,  9, 12]], dtype=torch.int32)"
      ]
     },
     "execution_count": 55,
     "metadata": {},
     "output_type": "execute_result"
    }
   ],
   "source": [
    "# Transposed\n",
    "matrix4_3.T"
   ]
  },
  {
   "cell_type": "code",
   "execution_count": 56,
   "id": "378d6409",
   "metadata": {},
   "outputs": [
    {
     "data": {
      "text/plain": [
       "torch.Size([4, 3])"
      ]
     },
     "execution_count": 56,
     "metadata": {},
     "output_type": "execute_result"
    }
   ],
   "source": [
    "matrix4_3.shape"
   ]
  },
  {
   "cell_type": "markdown",
   "id": "95614757",
   "metadata": {},
   "source": [
    "##### matrix3_2"
   ]
  },
  {
   "cell_type": "code",
   "execution_count": 57,
   "id": "155ad5b0",
   "metadata": {},
   "outputs": [
    {
     "data": {
      "text/plain": [
       "array([1, 2, 3, 4, 5, 6])"
      ]
     },
     "execution_count": 57,
     "metadata": {},
     "output_type": "execute_result"
    }
   ],
   "source": [
    "matrix2 = np.arange(1,7)\n",
    "\n",
    "matrix2"
   ]
  },
  {
   "cell_type": "code",
   "execution_count": 58,
   "id": "ed0bbabd",
   "metadata": {},
   "outputs": [
    {
     "data": {
      "text/plain": [
       "tensor([[1, 2],\n",
       "        [3, 4],\n",
       "        [5, 6]], dtype=torch.int32)"
      ]
     },
     "execution_count": 58,
     "metadata": {},
     "output_type": "execute_result"
    }
   ],
   "source": [
    "matrix3_2 = matrix2.reshape(3,2)\n",
    "matrix3_2  = torch.tensor(matrix3_2 )   # torch.from_numpy (matrix3_2 )\n",
    "matrix3_2"
   ]
  },
  {
   "cell_type": "code",
   "execution_count": 59,
   "id": "4db42340",
   "metadata": {},
   "outputs": [
    {
     "data": {
      "text/plain": [
       "torch.Size([3, 2])"
      ]
     },
     "execution_count": 59,
     "metadata": {},
     "output_type": "execute_result"
    }
   ],
   "source": [
    "matrix3_2.shape"
   ]
  },
  {
   "cell_type": "code",
   "execution_count": 60,
   "id": "afd8511e",
   "metadata": {},
   "outputs": [
    {
     "data": {
      "text/plain": [
       "2"
      ]
     },
     "execution_count": 60,
     "metadata": {},
     "output_type": "execute_result"
    }
   ],
   "source": [
    "matrix3_2.ndim"
   ]
  },
  {
   "cell_type": "code",
   "execution_count": 61,
   "id": "d1f3e993",
   "metadata": {},
   "outputs": [
    {
     "data": {
      "text/plain": [
       "torch.Size([4, 2])"
      ]
     },
     "execution_count": 61,
     "metadata": {},
     "output_type": "execute_result"
    }
   ],
   "source": [
    "result = torch.matmul(matrix4_3, matrix3_2)\n",
    "result.shape"
   ]
  },
  {
   "cell_type": "code",
   "execution_count": 62,
   "id": "76eec77d",
   "metadata": {},
   "outputs": [
    {
     "data": {
      "text/plain": [
       "torch.Size([4, 2])"
      ]
     },
     "execution_count": 62,
     "metadata": {},
     "output_type": "execute_result"
    }
   ],
   "source": [
    "result = torch.mm(matrix4_3, matrix3_2)\n",
    "result.shape"
   ]
  },
  {
   "cell_type": "code",
   "execution_count": 63,
   "id": "f3fa4fbb",
   "metadata": {},
   "outputs": [
    {
     "data": {
      "text/plain": [
       "tensor([[ 22,  28],\n",
       "        [ 49,  64],\n",
       "        [ 76, 100],\n",
       "        [103, 136]], dtype=torch.int32)"
      ]
     },
     "execution_count": 63,
     "metadata": {},
     "output_type": "execute_result"
    }
   ],
   "source": [
    "result\n"
   ]
  },
  {
   "cell_type": "code",
   "execution_count": 64,
   "id": "f3234253",
   "metadata": {},
   "outputs": [
    {
     "data": {
      "text/plain": [
       "tensor([[ 1,  4,  7, 10],\n",
       "        [ 2,  5,  8, 11],\n",
       "        [ 3,  6,  9, 12]], dtype=torch.int32)"
      ]
     },
     "execution_count": 64,
     "metadata": {},
     "output_type": "execute_result"
    }
   ],
   "source": [
    "torch.t(matrix4_3)"
   ]
  },
  {
   "cell_type": "markdown",
   "id": "ddf681e1",
   "metadata": {},
   "source": [
    "### Extra_PyTorch_operations_based_on_Tensor_Shape\n"
   ]
  },
  {
   "cell_type": "markdown",
   "id": "8ce33580",
   "metadata": {},
   "source": [
    "- Zeros\n",
    "- Ones\n",
    "- Random\n",
    "- Full"
   ]
  },
  {
   "cell_type": "code",
   "execution_count": 65,
   "id": "3c76b06a",
   "metadata": {},
   "outputs": [
    {
     "data": {
      "text/plain": [
       "tensor([[0., 0., 0.],\n",
       "        [0., 0., 0.],\n",
       "        [0., 0., 0.]])"
      ]
     },
     "execution_count": 65,
     "metadata": {},
     "output_type": "execute_result"
    }
   ],
   "source": [
    "tensorZeroes = torch.zeros((3,3))\n",
    "tensorZeroes"
   ]
  },
  {
   "cell_type": "code",
   "execution_count": 66,
   "id": "0048503e",
   "metadata": {},
   "outputs": [
    {
     "data": {
      "text/plain": [
       "tensor([[1., 1., 1.],\n",
       "        [1., 1., 1.],\n",
       "        [1., 1., 1.]])"
      ]
     },
     "execution_count": 66,
     "metadata": {},
     "output_type": "execute_result"
    }
   ],
   "source": [
    "tensorOnes = torch.ones((3,3))\n",
    "tensorOnes"
   ]
  },
  {
   "cell_type": "code",
   "execution_count": 67,
   "id": "4e2eb857",
   "metadata": {},
   "outputs": [
    {
     "data": {
      "text/plain": [
       "tensor([[ 0.8737,  1.4215],\n",
       "        [-0.6676, -1.7281],\n",
       "        [ 0.0534,  1.0346]])"
      ]
     },
     "execution_count": 67,
     "metadata": {},
     "output_type": "execute_result"
    }
   ],
   "source": [
    "tensorRandomN = torch.randn((3,2))   # #includes negative tensors\n",
    "tensorRandomN"
   ]
  },
  {
   "cell_type": "code",
   "execution_count": 68,
   "id": "9addc499",
   "metadata": {},
   "outputs": [
    {
     "data": {
      "text/plain": [
       "tensor([[0.5161, 0.1376, 0.1510],\n",
       "        [0.1570, 0.4623, 0.3033],\n",
       "        [0.4125, 0.8649, 0.4291]])"
      ]
     },
     "execution_count": 68,
     "metadata": {},
     "output_type": "execute_result"
    }
   ],
   "source": [
    "tensorRandom = torch.rand((3,3)) #includes only positive tensors\n",
    "tensorRandom"
   ]
  },
  {
   "cell_type": "code",
   "execution_count": 69,
   "id": "04145d9c",
   "metadata": {},
   "outputs": [
    {
     "data": {
      "text/plain": [
       "tensor([[5, 5, 5],\n",
       "        [5, 5, 5],\n",
       "        [5, 5, 5]])"
      ]
     },
     "execution_count": 69,
     "metadata": {},
     "output_type": "execute_result"
    }
   ],
   "source": [
    "customFill = torch.full((3,3),5)\n",
    "customFill"
   ]
  },
  {
   "cell_type": "code",
   "execution_count": 70,
   "id": "28bb5971",
   "metadata": {},
   "outputs": [
    {
     "data": {
      "text/plain": [
       "torch.Size([3, 3])"
      ]
     },
     "execution_count": 70,
     "metadata": {},
     "output_type": "execute_result"
    }
   ],
   "source": [
    "customFill.shape\n"
   ]
  },
  {
   "cell_type": "code",
   "execution_count": 71,
   "id": "51658958",
   "metadata": {},
   "outputs": [
    {
     "data": {
      "text/plain": [
       "2"
      ]
     },
     "execution_count": 71,
     "metadata": {},
     "output_type": "execute_result"
    }
   ],
   "source": [
    "customFill.ndim"
   ]
  },
  {
   "cell_type": "code",
   "execution_count": 72,
   "id": "857ef4d3",
   "metadata": {},
   "outputs": [
    {
     "data": {
      "text/plain": [
       "tensor([[0.0100, 0.0100, 0.0100],\n",
       "        [0.0100, 0.0100, 0.0100],\n",
       "        [0.0100, 0.0100, 0.0100]])"
      ]
     },
     "execution_count": 72,
     "metadata": {},
     "output_type": "execute_result"
    }
   ],
   "source": [
    "initialFill = torch.full((3,3),0.01)\n",
    "initialFill"
   ]
  }
 ],
 "metadata": {
  "kernelspec": {
   "display_name": "Python 3 (ipykernel)",
   "language": "python",
   "name": "python3"
  },
  "language_info": {
   "codemirror_mode": {
    "name": "ipython",
    "version": 3
   },
   "file_extension": ".py",
   "mimetype": "text/x-python",
   "name": "python",
   "nbconvert_exporter": "python",
   "pygments_lexer": "ipython3",
   "version": "3.11.5"
  }
 },
 "nbformat": 4,
 "nbformat_minor": 5
}
